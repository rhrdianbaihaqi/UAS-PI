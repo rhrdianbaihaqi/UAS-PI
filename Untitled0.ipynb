{
  "nbformat": 4,
  "nbformat_minor": 0,
  "metadata": {
    "colab": {
      "provenance": [],
      "authorship_tag": "ABX9TyNcqBhnwfz38xCGcQBQEOkl",
      "include_colab_link": true
    },
    "kernelspec": {
      "name": "python3",
      "display_name": "Python 3"
    },
    "language_info": {
      "name": "python"
    }
  },
  "cells": [
    {
      "cell_type": "markdown",
      "metadata": {
        "id": "view-in-github",
        "colab_type": "text"
      },
      "source": [
        "<a href=\"https://colab.research.google.com/github/rhrdianbaihaqi/UAS-PI/blob/main/Untitled0.ipynb\" target=\"_parent\"><img src=\"https://colab.research.google.com/assets/colab-badge.svg\" alt=\"Open In Colab\"/></a>"
      ]
    },
    {
      "cell_type": "code",
      "execution_count": 10,
      "metadata": {
        "colab": {
          "base_uri": "https://localhost:8080/"
        },
        "id": "0b-Xul7RB8_2",
        "outputId": "b4de1d2d-2f79-4d82-aaa2-9068c5f268f6"
      },
      "outputs": [
        {
          "output_type": "stream",
          "name": "stdout",
          "text": [
            "Kalkulator Sederhana by Haqii\n",
            "\n",
            "Hasil Penjumlahan : 14\n",
            "Hasil Pengurangan : 4\n",
            "Hasil Perkalian   : 54\n",
            "Hasil Pembagian   : 3.0\n"
          ]
        }
      ],
      "source": [
        "print(\"Kalkulator Sederhana by Haqii\")\n",
        "print(\"\")\n",
        "\n",
        "# Melakukan operasi aritmatika\n",
        "angka1 = 9\n",
        "angka2 = 3\n",
        "angka3 = 2\n",
        "\n",
        "jumlah = angka1 + angka2 + angka3\n",
        "kurang = angka1 - angka2 - angka3\n",
        "kali   = angka1 * angka2 * angka3\n",
        "bagi   = angka1 / angka2\n",
        "\n",
        "# Menampilkan hasil operasi\n",
        "print(f\"Hasil Penjumlahan : {jumlah}\")\n",
        "print(f\"Hasil Pengurangan : {kurang}\")\n",
        "print(f\"Hasil Perkalian   : {kali}\")\n",
        "print(f\"Hasil Pembagian   : {bagi}\")\n",
        "\n"
      ]
    }
  ]
}